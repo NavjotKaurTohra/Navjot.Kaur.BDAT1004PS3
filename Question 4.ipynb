{
 "cells": [
  {
   "cell_type": "markdown",
   "id": "e325dd43",
   "metadata": {},
   "source": [
    "# Question 4\n",
    "Wind Statistics \n",
    "The data have been modified to contain some missing values, identified by NaN.\n",
    "Using pandas should make this exercise easier, in particular for the bonus question.\n",
    "You should be able to perform all of these operations without using a for loop or \n",
    "other looping construct.\n",
    "The data in 'wind.data' has the following format:\n",
    "Yr Mo Dy RPT VAL ROS KIL SHA BIR DUB CLA MUL CLO BEL \n",
    "MAL\n",
    "61 1 1 15.04 14.96 13.17 9.29 NaN 9.87 13.67 10.25 10.83 12.58 18.50 15.04\n",
    "61 1 2 14.71 NaN 10.83 6.50 12.62 7.67 11.50 10.04 9.79 9.67 17.54 13.83\n",
    "61 1 3 18.50 16.88 12.33 10.13 11.17 6.17 11.25 NaN 8.50 7.67 12.75 12.71\n",
    " BDAT 1004 – Data Programming \n",
    "Page 3 of 5\n",
    "W2021\n",
    "BDAT 1004 Computer Studies\n",
    "The first three columns are year, month, and day. The remaining 12 columns are \n",
    "average windspeeds in knots at 12 locations in Ireland on that day.\n",
    "Step 1. Import the necessary libraries\n",
    "Step 2. Import the dataset from the attached file wind.txt\n",
    "Step 3. Assign it to a variable called data and replace the first 3 columns by a proper \n",
    "datetime index.\n",
    "Step 4. Year 2061? Do we really have data from this year? Create a function to fix it \n",
    "and apply it.\n",
    "Step 5. Set the right dates as the index. Pay attention at the data type, it should be \n",
    "datetime64[ns].\n",
    "Step 6. Compute how many values are missing for each location over the entire \n",
    "record.They should be ignored in all calculations below.\n",
    "Step 7. Compute how many non-missing values there are in total.\n",
    "Step 8. Calculate the mean windspeeds of the windspeeds over all the locations and \n",
    "all the times.\n",
    "A single number for the entire dataset.\n",
    "Step 9. Create a DataFrame called loc_stats and calculate the min, max and mean \n",
    "windspeeds and standard deviations of the windspeeds at each location over all the \n",
    "days\n",
    "A different set of numbers for each location.\n",
    "Step 10. Create a DataFrame called day_stats and calculate the min, max and mean \n",
    "windspeed and standard deviations of the windspeeds across all the locations at each \n",
    "day.\n",
    "A different set of numbers for each day.\n",
    "Step 11. Find the average windspeed in January for each location.\n",
    "Treat January 1961 and January 1962 both as January.\n",
    "Step 12. Downsample the record to a yearly frequency for each location.\n",
    "Step 13. Downsample the record to a monthly frequency for each location.\n",
    "Step 14. Downsample the record to a weekly frequency for each location.\n",
    "Step 15. Calculate the min, max and mean windspeeds and standard deviations of the \n",
    "windspeeds across all locations for each week (assume that the first week starts on \n",
    "January 2 1961) for the first 52 weeks"
   ]
  },
  {
   "cell_type": "markdown",
   "id": "205fc846",
   "metadata": {},
   "source": [
    "Step 1. Import the necessary libraries"
   ]
  },
  {
   "cell_type": "code",
   "execution_count": 2,
   "id": "2cf90786",
   "metadata": {},
   "outputs": [],
   "source": [
    "import pandas as pd\n",
    "import numpy as np\n",
    "import datetime as dt"
   ]
  },
  {
   "cell_type": "markdown",
   "id": "0cef2a06",
   "metadata": {},
   "source": [
    "Step 2. Import the dataset from the attached file wind.txt"
   ]
  },
  {
   "cell_type": "code",
   "execution_count": 3,
   "id": "64165e64",
   "metadata": {},
   "outputs": [
    {
     "data": {
      "text/html": [
       "<div>\n",
       "<style scoped>\n",
       "    .dataframe tbody tr th:only-of-type {\n",
       "        vertical-align: middle;\n",
       "    }\n",
       "\n",
       "    .dataframe tbody tr th {\n",
       "        vertical-align: top;\n",
       "    }\n",
       "\n",
       "    .dataframe thead th {\n",
       "        text-align: right;\n",
       "    }\n",
       "</style>\n",
       "<table border=\"1\" class=\"dataframe\">\n",
       "  <thead>\n",
       "    <tr style=\"text-align: right;\">\n",
       "      <th></th>\n",
       "      <th>Yr</th>\n",
       "      <th>Mo</th>\n",
       "      <th>Dy</th>\n",
       "      <th>RPT</th>\n",
       "      <th>VAL</th>\n",
       "      <th>ROS</th>\n",
       "      <th>KIL</th>\n",
       "      <th>SHA</th>\n",
       "      <th>BIR</th>\n",
       "      <th>DUB</th>\n",
       "      <th>CLA</th>\n",
       "      <th>MUL</th>\n",
       "      <th>CLO</th>\n",
       "      <th>BEL</th>\n",
       "      <th>MAL</th>\n",
       "    </tr>\n",
       "  </thead>\n",
       "  <tbody>\n",
       "    <tr>\n",
       "      <th>0</th>\n",
       "      <td>61</td>\n",
       "      <td>1</td>\n",
       "      <td>1</td>\n",
       "      <td>15.04</td>\n",
       "      <td>14.96</td>\n",
       "      <td>13.17</td>\n",
       "      <td>9.29</td>\n",
       "      <td>NaN</td>\n",
       "      <td>9.87</td>\n",
       "      <td>13.67</td>\n",
       "      <td>10.25</td>\n",
       "      <td>10.83</td>\n",
       "      <td>12.58</td>\n",
       "      <td>18.50</td>\n",
       "      <td>15.04</td>\n",
       "    </tr>\n",
       "    <tr>\n",
       "      <th>1</th>\n",
       "      <td>61</td>\n",
       "      <td>1</td>\n",
       "      <td>2</td>\n",
       "      <td>14.71</td>\n",
       "      <td>NaN</td>\n",
       "      <td>10.83</td>\n",
       "      <td>6.50</td>\n",
       "      <td>12.62</td>\n",
       "      <td>7.67</td>\n",
       "      <td>11.50</td>\n",
       "      <td>10.04</td>\n",
       "      <td>9.79</td>\n",
       "      <td>9.67</td>\n",
       "      <td>17.54</td>\n",
       "      <td>13.83</td>\n",
       "    </tr>\n",
       "    <tr>\n",
       "      <th>2</th>\n",
       "      <td>61</td>\n",
       "      <td>1</td>\n",
       "      <td>3</td>\n",
       "      <td>18.50</td>\n",
       "      <td>16.88</td>\n",
       "      <td>12.33</td>\n",
       "      <td>10.13</td>\n",
       "      <td>11.17</td>\n",
       "      <td>6.17</td>\n",
       "      <td>11.25</td>\n",
       "      <td>NaN</td>\n",
       "      <td>8.50</td>\n",
       "      <td>7.67</td>\n",
       "      <td>12.75</td>\n",
       "      <td>12.71</td>\n",
       "    </tr>\n",
       "  </tbody>\n",
       "</table>\n",
       "</div>"
      ],
      "text/plain": [
       "   Yr  Mo  Dy    RPT    VAL    ROS    KIL    SHA   BIR    DUB    CLA    MUL  \\\n",
       "0  61   1   1  15.04  14.96  13.17   9.29    NaN  9.87  13.67  10.25  10.83   \n",
       "1  61   1   2  14.71    NaN  10.83   6.50  12.62  7.67  11.50  10.04   9.79   \n",
       "2  61   1   3  18.50  16.88  12.33  10.13  11.17  6.17  11.25    NaN   8.50   \n",
       "\n",
       "     CLO    BEL    MAL  \n",
       "0  12.58  18.50  15.04  \n",
       "1   9.67  17.54  13.83  \n",
       "2   7.67  12.75  12.71  "
      ]
     },
     "execution_count": 3,
     "metadata": {},
     "output_type": "execute_result"
    }
   ],
   "source": [
    "pd.read_csv(\"wind.txt\", sep=' ')"
   ]
  },
  {
   "cell_type": "markdown",
   "id": "65f25e13",
   "metadata": {},
   "source": [
    "Step 3. Assign it to a variable called data and replace the first 3 columns by a proper datetime index."
   ]
  },
  {
   "cell_type": "code",
   "execution_count": 4,
   "id": "05b7a491",
   "metadata": {},
   "outputs": [
    {
     "data": {
      "text/html": [
       "<div>\n",
       "<style scoped>\n",
       "    .dataframe tbody tr th:only-of-type {\n",
       "        vertical-align: middle;\n",
       "    }\n",
       "\n",
       "    .dataframe tbody tr th {\n",
       "        vertical-align: top;\n",
       "    }\n",
       "\n",
       "    .dataframe thead th {\n",
       "        text-align: right;\n",
       "    }\n",
       "</style>\n",
       "<table border=\"1\" class=\"dataframe\">\n",
       "  <thead>\n",
       "    <tr style=\"text-align: right;\">\n",
       "      <th></th>\n",
       "      <th>RPT</th>\n",
       "      <th>VAL</th>\n",
       "      <th>ROS</th>\n",
       "      <th>KIL</th>\n",
       "      <th>SHA</th>\n",
       "      <th>BIR</th>\n",
       "      <th>DUB</th>\n",
       "      <th>CLA</th>\n",
       "      <th>MUL</th>\n",
       "      <th>CLO</th>\n",
       "      <th>BEL</th>\n",
       "      <th>MAL</th>\n",
       "      <th>Date</th>\n",
       "    </tr>\n",
       "  </thead>\n",
       "  <tbody>\n",
       "    <tr>\n",
       "      <th>0</th>\n",
       "      <td>15.04</td>\n",
       "      <td>14.96</td>\n",
       "      <td>13.17</td>\n",
       "      <td>9.29</td>\n",
       "      <td>NaN</td>\n",
       "      <td>9.87</td>\n",
       "      <td>13.67</td>\n",
       "      <td>10.25</td>\n",
       "      <td>10.83</td>\n",
       "      <td>12.58</td>\n",
       "      <td>18.50</td>\n",
       "      <td>15.04</td>\n",
       "      <td>2061-01-01</td>\n",
       "    </tr>\n",
       "    <tr>\n",
       "      <th>1</th>\n",
       "      <td>14.71</td>\n",
       "      <td>NaN</td>\n",
       "      <td>10.83</td>\n",
       "      <td>6.50</td>\n",
       "      <td>12.62</td>\n",
       "      <td>7.67</td>\n",
       "      <td>11.50</td>\n",
       "      <td>10.04</td>\n",
       "      <td>9.79</td>\n",
       "      <td>9.67</td>\n",
       "      <td>17.54</td>\n",
       "      <td>13.83</td>\n",
       "      <td>2061-01-02</td>\n",
       "    </tr>\n",
       "    <tr>\n",
       "      <th>2</th>\n",
       "      <td>18.50</td>\n",
       "      <td>16.88</td>\n",
       "      <td>12.33</td>\n",
       "      <td>10.13</td>\n",
       "      <td>11.17</td>\n",
       "      <td>6.17</td>\n",
       "      <td>11.25</td>\n",
       "      <td>NaN</td>\n",
       "      <td>8.50</td>\n",
       "      <td>7.67</td>\n",
       "      <td>12.75</td>\n",
       "      <td>12.71</td>\n",
       "      <td>2061-01-03</td>\n",
       "    </tr>\n",
       "  </tbody>\n",
       "</table>\n",
       "</div>"
      ],
      "text/plain": [
       "     RPT    VAL    ROS    KIL    SHA   BIR    DUB    CLA    MUL    CLO    BEL  \\\n",
       "0  15.04  14.96  13.17   9.29    NaN  9.87  13.67  10.25  10.83  12.58  18.50   \n",
       "1  14.71    NaN  10.83   6.50  12.62  7.67  11.50  10.04   9.79   9.67  17.54   \n",
       "2  18.50  16.88  12.33  10.13  11.17  6.17  11.25    NaN   8.50   7.67  12.75   \n",
       "\n",
       "     MAL       Date  \n",
       "0  15.04 2061-01-01  \n",
       "1  13.83 2061-01-02  \n",
       "2  12.71 2061-01-03  "
      ]
     },
     "execution_count": 4,
     "metadata": {},
     "output_type": "execute_result"
    }
   ],
   "source": [
    "data=pd.read_csv(\"wind.txt\", sep=' ')\n",
    "data[\"Date\"] = pd.to_datetime(data[[\"Yr\",\"Mo\",\"Dy\"]].astype(str).agg('-'.join, axis=1))\n",
    "data = data.drop(columns=[\"Yr\",\"Mo\",\"Dy\"])\n",
    "data.head()"
   ]
  },
  {
   "cell_type": "markdown",
   "id": "a9a2e0bb",
   "metadata": {},
   "source": [
    "Step 4. Year 2061 is seemingly improper. Convert every year which are < 70 to 19XX instead of 20XX"
   ]
  },
  {
   "cell_type": "code",
   "execution_count": 5,
   "id": "63bef183",
   "metadata": {},
   "outputs": [],
   "source": [
    "data[\"Date\"] = np.where(pd.DatetimeIndex(data[\"Date\"]).year < 2000,data.Date,data.Date - pd.offsets.DateOffset(years=100))\n"
   ]
  },
  {
   "cell_type": "markdown",
   "id": "5f43898e",
   "metadata": {},
   "source": [
    "Step 5. Set the right dates as the index. Pay attention at the data type, it should be datetime64[ns]"
   ]
  },
  {
   "cell_type": "code",
   "execution_count": 6,
   "id": "91cd1479",
   "metadata": {},
   "outputs": [
    {
     "data": {
      "text/plain": [
       "DatetimeIndex(['1961-01-01', '1961-01-02', '1961-01-03'], dtype='datetime64[ns]', name='Date', freq=None)"
      ]
     },
     "execution_count": 6,
     "metadata": {},
     "output_type": "execute_result"
    }
   ],
   "source": [
    "newData = data.set_index(\"Date\")\n",
    "newData.index.astype(\"datetime64[ns]\")"
   ]
  },
  {
   "cell_type": "markdown",
   "id": "e4ef3917",
   "metadata": {},
   "source": [
    "Step 6. Compute how many values are missing for each location over the entire record"
   ]
  },
  {
   "cell_type": "code",
   "execution_count": 7,
   "id": "040741fc",
   "metadata": {},
   "outputs": [
    {
     "name": "stdout",
     "output_type": "stream",
     "text": [
      "3\n"
     ]
    }
   ],
   "source": [
    "print(newData.isnull().values.ravel().sum())"
   ]
  },
  {
   "cell_type": "markdown",
   "id": "f2bed3e7",
   "metadata": {},
   "source": [
    "Step 7. Compute how many non-missing values there are in total."
   ]
  },
  {
   "cell_type": "code",
   "execution_count": 8,
   "id": "87b173ba",
   "metadata": {},
   "outputs": [
    {
     "name": "stdout",
     "output_type": "stream",
     "text": [
      "Total Non-missing values are : 33\n"
     ]
    }
   ],
   "source": [
    "x=newData.count()\n",
    "print(\"Total Non-missing values are :\",x.sum())"
   ]
  },
  {
   "cell_type": "markdown",
   "id": "a6a374cf",
   "metadata": {},
   "source": [
    "Step 8. Calculate the mean windspeeds over all the locations and all the times"
   ]
  },
  {
   "cell_type": "code",
   "execution_count": 9,
   "id": "74647d48",
   "metadata": {},
   "outputs": [
    {
     "data": {
      "text/plain": [
       "12.053333333333333"
      ]
     },
     "execution_count": 9,
     "metadata": {},
     "output_type": "execute_result"
    }
   ],
   "source": [
    "y = newData.mean()\n",
    "y.mean()"
   ]
  },
  {
   "cell_type": "markdown",
   "id": "2e3cb2fd",
   "metadata": {},
   "source": [
    "Step 9. Create a DataFrame called loc_stats and calculate the min, max and mean windspeeds and standard deviations of the windspeeds at each location over all the days"
   ]
  },
  {
   "cell_type": "code",
   "execution_count": 10,
   "id": "72da3926",
   "metadata": {},
   "outputs": [
    {
     "data": {
      "text/html": [
       "<div>\n",
       "<style scoped>\n",
       "    .dataframe tbody tr th:only-of-type {\n",
       "        vertical-align: middle;\n",
       "    }\n",
       "\n",
       "    .dataframe tbody tr th {\n",
       "        vertical-align: top;\n",
       "    }\n",
       "\n",
       "    .dataframe thead th {\n",
       "        text-align: right;\n",
       "    }\n",
       "</style>\n",
       "<table border=\"1\" class=\"dataframe\">\n",
       "  <thead>\n",
       "    <tr style=\"text-align: right;\">\n",
       "      <th></th>\n",
       "      <th>RPT</th>\n",
       "      <th>VAL</th>\n",
       "      <th>ROS</th>\n",
       "      <th>KIL</th>\n",
       "      <th>SHA</th>\n",
       "      <th>BIR</th>\n",
       "      <th>DUB</th>\n",
       "      <th>CLA</th>\n",
       "      <th>MUL</th>\n",
       "      <th>CLO</th>\n",
       "      <th>BEL</th>\n",
       "      <th>MAL</th>\n",
       "    </tr>\n",
       "  </thead>\n",
       "  <tbody>\n",
       "    <tr>\n",
       "      <th>Min</th>\n",
       "      <td>14.710000</td>\n",
       "      <td>14.960000</td>\n",
       "      <td>10.830000</td>\n",
       "      <td>6.500000</td>\n",
       "      <td>11.170000</td>\n",
       "      <td>6.170000</td>\n",
       "      <td>11.250000</td>\n",
       "      <td>10.040000</td>\n",
       "      <td>8.500000</td>\n",
       "      <td>7.670000</td>\n",
       "      <td>12.750000</td>\n",
       "      <td>12.71000</td>\n",
       "    </tr>\n",
       "    <tr>\n",
       "      <th>Max</th>\n",
       "      <td>18.500000</td>\n",
       "      <td>16.880000</td>\n",
       "      <td>13.170000</td>\n",
       "      <td>10.130000</td>\n",
       "      <td>12.620000</td>\n",
       "      <td>9.870000</td>\n",
       "      <td>13.670000</td>\n",
       "      <td>10.250000</td>\n",
       "      <td>10.830000</td>\n",
       "      <td>12.580000</td>\n",
       "      <td>18.500000</td>\n",
       "      <td>15.04000</td>\n",
       "    </tr>\n",
       "    <tr>\n",
       "      <th>Mean</th>\n",
       "      <td>16.083333</td>\n",
       "      <td>15.920000</td>\n",
       "      <td>12.110000</td>\n",
       "      <td>8.640000</td>\n",
       "      <td>11.895000</td>\n",
       "      <td>7.903333</td>\n",
       "      <td>12.140000</td>\n",
       "      <td>10.145000</td>\n",
       "      <td>9.706667</td>\n",
       "      <td>9.973333</td>\n",
       "      <td>16.263333</td>\n",
       "      <td>13.86000</td>\n",
       "    </tr>\n",
       "    <tr>\n",
       "      <th>Std</th>\n",
       "      <td>2.099389</td>\n",
       "      <td>1.357645</td>\n",
       "      <td>1.185411</td>\n",
       "      <td>1.900289</td>\n",
       "      <td>1.025305</td>\n",
       "      <td>1.861003</td>\n",
       "      <td>1.330902</td>\n",
       "      <td>0.148492</td>\n",
       "      <td>1.167233</td>\n",
       "      <td>2.469015</td>\n",
       "      <td>3.080265</td>\n",
       "      <td>1.16529</td>\n",
       "    </tr>\n",
       "  </tbody>\n",
       "</table>\n",
       "</div>"
      ],
      "text/plain": [
       "            RPT        VAL        ROS        KIL        SHA       BIR  \\\n",
       "Min   14.710000  14.960000  10.830000   6.500000  11.170000  6.170000   \n",
       "Max   18.500000  16.880000  13.170000  10.130000  12.620000  9.870000   \n",
       "Mean  16.083333  15.920000  12.110000   8.640000  11.895000  7.903333   \n",
       "Std    2.099389   1.357645   1.185411   1.900289   1.025305  1.861003   \n",
       "\n",
       "            DUB        CLA        MUL        CLO        BEL       MAL  \n",
       "Min   11.250000  10.040000   8.500000   7.670000  12.750000  12.71000  \n",
       "Max   13.670000  10.250000  10.830000  12.580000  18.500000  15.04000  \n",
       "Mean  12.140000  10.145000   9.706667   9.973333  16.263333  13.86000  \n",
       "Std    1.330902   0.148492   1.167233   2.469015   3.080265   1.16529  "
      ]
     },
     "execution_count": 10,
     "metadata": {},
     "output_type": "execute_result"
    }
   ],
   "source": [
    "def stats(x):\n",
    "    x = pd.Series(x)\n",
    "    Min = x.min()\n",
    "    Max = x.max()\n",
    "    Mean = x.mean()\n",
    "    Std = x.std()\n",
    "    res = [Min,Max,Mean,Std]\n",
    "    indx = [\"Min\",\"Max\",\"Mean\",\"Std\"]\n",
    "    res = pd.Series(res,index=indx)\n",
    "    return res\n",
    "loc_stats = newData.apply(stats)\n",
    "loc_stats"
   ]
  },
  {
   "cell_type": "markdown",
   "id": "56b02ff9",
   "metadata": {},
   "source": [
    "Step 10. Create a DataFrame called day_stats and calculate the min, max and mean windspeed and standard deviations of the windspeeds across all the locations at each day."
   ]
  },
  {
   "cell_type": "code",
   "execution_count": 11,
   "id": "6fa629fd",
   "metadata": {},
   "outputs": [
    {
     "data": {
      "text/html": [
       "<div>\n",
       "<style scoped>\n",
       "    .dataframe tbody tr th:only-of-type {\n",
       "        vertical-align: middle;\n",
       "    }\n",
       "\n",
       "    .dataframe tbody tr th {\n",
       "        vertical-align: top;\n",
       "    }\n",
       "\n",
       "    .dataframe thead th {\n",
       "        text-align: right;\n",
       "    }\n",
       "</style>\n",
       "<table border=\"1\" class=\"dataframe\">\n",
       "  <thead>\n",
       "    <tr style=\"text-align: right;\">\n",
       "      <th></th>\n",
       "      <th>Min</th>\n",
       "      <th>Max</th>\n",
       "      <th>Mean</th>\n",
       "      <th>Std</th>\n",
       "    </tr>\n",
       "    <tr>\n",
       "      <th>Date</th>\n",
       "      <th></th>\n",
       "      <th></th>\n",
       "      <th></th>\n",
       "      <th></th>\n",
       "    </tr>\n",
       "  </thead>\n",
       "  <tbody>\n",
       "    <tr>\n",
       "      <th>1961-01-01</th>\n",
       "      <td>9.29</td>\n",
       "      <td>18.50</td>\n",
       "      <td>13.018182</td>\n",
       "      <td>2.808875</td>\n",
       "    </tr>\n",
       "    <tr>\n",
       "      <th>1961-01-02</th>\n",
       "      <td>6.50</td>\n",
       "      <td>17.54</td>\n",
       "      <td>11.336364</td>\n",
       "      <td>3.188994</td>\n",
       "    </tr>\n",
       "    <tr>\n",
       "      <th>1961-01-03</th>\n",
       "      <td>6.17</td>\n",
       "      <td>18.50</td>\n",
       "      <td>11.641818</td>\n",
       "      <td>3.681912</td>\n",
       "    </tr>\n",
       "  </tbody>\n",
       "</table>\n",
       "</div>"
      ],
      "text/plain": [
       "             Min    Max       Mean       Std\n",
       "Date                                        \n",
       "1961-01-01  9.29  18.50  13.018182  2.808875\n",
       "1961-01-02  6.50  17.54  11.336364  3.188994\n",
       "1961-01-03  6.17  18.50  11.641818  3.681912"
      ]
     },
     "execution_count": 11,
     "metadata": {},
     "output_type": "execute_result"
    }
   ],
   "source": [
    "day_stats = newData.apply(stats,axis=1)\n",
    "day_stats.head()"
   ]
  },
  {
   "cell_type": "markdown",
   "id": "9d45e7ef",
   "metadata": {},
   "source": [
    "Step 11. Find the average windspeed in January for each location."
   ]
  },
  {
   "cell_type": "code",
   "execution_count": 12,
   "id": "541d29f6",
   "metadata": {},
   "outputs": [
    {
     "name": "stdout",
     "output_type": "stream",
     "text": [
      "January windspeeds:\n",
      "RPT    16.083333\n",
      "VAL    15.920000\n",
      "ROS    12.110000\n",
      "KIL     8.640000\n",
      "SHA    11.895000\n",
      "BIR     7.903333\n",
      "DUB    12.140000\n",
      "CLA    10.145000\n",
      "MUL     9.706667\n",
      "CLO     9.973333\n",
      "BEL    16.263333\n",
      "MAL    13.860000\n",
      "dtype: float64\n"
     ]
    }
   ],
   "source": [
    "january_data = newData[newData.index.month == 1]\n",
    "print (\"January windspeeds:\")\n",
    "print (january_data.mean())"
   ]
  },
  {
   "cell_type": "markdown",
   "id": "a2cbd0db",
   "metadata": {},
   "source": [
    "Step 12. Downsample the record to a yearly frequency for each location."
   ]
  },
  {
   "cell_type": "code",
   "execution_count": 13,
   "id": "65072e5a",
   "metadata": {},
   "outputs": [
    {
     "name": "stdout",
     "output_type": "stream",
     "text": [
      "Yearly:\n",
      "                   RPT    VAL    ROS   KIL     SHA       BIR    DUB     CLA  \\\n",
      "Date                                                                         \n",
      "1961-12-31  16.083333  15.92  12.11  8.64  11.895  7.903333  12.14  10.145   \n",
      "\n",
      "                 MUL       CLO        BEL    MAL  \n",
      "Date                                              \n",
      "1961-12-31  9.706667  9.973333  16.263333  13.86  \n"
     ]
    }
   ],
   "source": [
    "print( \"Yearly:\\n\", newData.resample('A').mean())"
   ]
  },
  {
   "cell_type": "markdown",
   "id": "18a25412",
   "metadata": {},
   "source": [
    "Step 13. Downsample the record to a monthly frequency for each location"
   ]
  },
  {
   "cell_type": "code",
   "execution_count": 14,
   "id": "33c3f304",
   "metadata": {},
   "outputs": [
    {
     "name": "stdout",
     "output_type": "stream",
     "text": [
      "Monthly:                   RPT    VAL    ROS   KIL     SHA       BIR    DUB     CLA  \\\n",
      "Date                                                                         \n",
      "1961-01-31  16.083333  15.92  12.11  8.64  11.895  7.903333  12.14  10.145   \n",
      "\n",
      "                 MUL       CLO        BEL    MAL  \n",
      "Date                                              \n",
      "1961-01-31  9.706667  9.973333  16.263333  13.86  \n"
     ]
    }
   ],
   "source": [
    "print (\"Monthly:\", newData.resample('M').mean())"
   ]
  },
  {
   "cell_type": "markdown",
   "id": "4abf95dd",
   "metadata": {},
   "source": [
    "Step 14. Downsample the record to a weekly frequency for each location."
   ]
  },
  {
   "cell_type": "code",
   "execution_count": 15,
   "id": "d703f9e4",
   "metadata": {},
   "outputs": [
    {
     "name": "stdout",
     "output_type": "stream",
     "text": [
      "Weekly:                RPT    VAL    ROS    KIL     SHA   BIR     DUB    CLA     MUL  \\\n",
      "Date                                                                           \n",
      "1961-01-01  15.040  14.96  13.17  9.290     NaN  9.87  13.670  10.25  10.830   \n",
      "1961-01-08  16.605  16.88  11.58  8.315  11.895  6.92  11.375  10.04   9.145   \n",
      "\n",
      "              CLO     BEL    MAL  \n",
      "Date                              \n",
      "1961-01-01  12.58  18.500  15.04  \n",
      "1961-01-08   8.67  15.145  13.27  \n"
     ]
    }
   ],
   "source": [
    "print (\"Weekly:\", newData.resample('W').mean())"
   ]
  },
  {
   "cell_type": "code",
   "execution_count": null,
   "id": "d6c77d74",
   "metadata": {},
   "outputs": [],
   "source": []
  },
  {
   "cell_type": "code",
   "execution_count": null,
   "id": "d082fd34",
   "metadata": {},
   "outputs": [],
   "source": []
  },
  {
   "cell_type": "markdown",
   "id": "8329552f",
   "metadata": {},
   "source": [
    "Step 15. Calculate the min, max and mean windspeeds and standard deviations of the windspeeds across all locations for each week (assume that the first week starts on January 2 1961) for the first 52 weeks."
   ]
  },
  {
   "cell_type": "code",
   "execution_count": 18,
   "id": "27f67e5f",
   "metadata": {},
   "outputs": [
    {
     "name": "stdout",
     "output_type": "stream",
     "text": [
      "             RPT        VAL      ROS       KIL     SHA       BIR       DUB  \\\n",
      "count   2.000000   2.000000   2.0000  2.000000   1.000  2.000000   2.00000   \n",
      "mean   15.822500  15.920000  12.3750  8.802500  11.895  8.395000  12.52250   \n",
      "std     1.106622   1.357645   1.1243  0.689429     NaN  2.085965   1.62281   \n",
      "min    15.040000  14.960000  11.5800  8.315000  11.895  6.920000  11.37500   \n",
      "25%    15.431250  15.440000  11.9775  8.558750  11.895  7.657500  11.94875   \n",
      "50%    15.822500  15.920000  12.3750  8.802500  11.895  8.395000  12.52250   \n",
      "75%    16.213750  16.400000  12.7725  9.046250  11.895  9.132500  13.09625   \n",
      "max    16.605000  16.880000  13.1700  9.290000  11.895  9.870000  13.67000   \n",
      "\n",
      "             CLA        MUL        CLO        BEL        MAL  \n",
      "count   2.000000   2.000000   2.000000   2.000000   2.000000  \n",
      "mean   10.145000   9.987500  10.625000  16.822500  14.155000  \n",
      "std     0.148492   1.191475   2.764788   2.372343   1.251579  \n",
      "min    10.040000   9.145000   8.670000  15.145000  13.270000  \n",
      "25%    10.092500   9.566250   9.647500  15.983750  13.712500  \n",
      "50%    10.145000   9.987500  10.625000  16.822500  14.155000  \n",
      "75%    10.197500  10.408750  11.602500  17.661250  14.597500  \n",
      "max    10.250000  10.830000  12.580000  18.500000  15.040000  \n"
     ]
    }
   ],
   "source": [
    "first_year = newData[newData.index.year == 1961]\n",
    "stats1 = newData.resample('W').mean().apply(lambda x: x.describe())\n",
    "print (stats1)"
   ]
  },
  {
   "cell_type": "code",
   "execution_count": null,
   "id": "b2b54a2e",
   "metadata": {},
   "outputs": [],
   "source": []
  }
 ],
 "metadata": {
  "kernelspec": {
   "display_name": "Python 3 (ipykernel)",
   "language": "python",
   "name": "python3"
  },
  "language_info": {
   "codemirror_mode": {
    "name": "ipython",
    "version": 3
   },
   "file_extension": ".py",
   "mimetype": "text/x-python",
   "name": "python",
   "nbconvert_exporter": "python",
   "pygments_lexer": "ipython3",
   "version": "3.9.7"
  }
 },
 "nbformat": 4,
 "nbformat_minor": 5
}
