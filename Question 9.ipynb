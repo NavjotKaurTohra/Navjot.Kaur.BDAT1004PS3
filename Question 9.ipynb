{
 "cells": [
  {
   "cell_type": "markdown",
   "id": "1b416744",
   "metadata": {},
   "source": [
    "# Question 9\n",
    "Create a pie chart showing the fraction of all Roman Emperors that were \n",
    "assassinated.\n",
    "Make sure that the pie chart is an even circle, labels the categories, and shows the \n",
    "percentage breakdown of the categories."
   ]
  },
  {
   "cell_type": "code",
   "execution_count": 1,
   "id": "d41e2e6c",
   "metadata": {},
   "outputs": [
    {
     "data": {
      "image/png": "[encoded data removed]",
      "text/plain": [
       "<Figure size 432x288 with 1 Axes>"
      ]
     },
     "metadata": {},
     "output_type": "display_data"
    }
   ],
   "source": [
    "import pandas as pd\n",
    "\n",
    "roman_emperors = pd.read_csv('roman-emperor-reigns.csv')\n",
    "assassinated_emperors = roman_emperors[roman_emperors['Cause_of_Death'].apply(lambda x: 'assassinated' in x.lower())]\n",
    "possibly_assassinated_emperors = roman_emperors[roman_emperors['Cause_of_Death'].apply(lambda x: 'possibly assassinated' in x.lower())]\n",
    "Total = len(roman_emperors)\n",
    "f_number_assassinated = len(assassinated_emperors)/Total\n",
    "f_possibly_assassinated_emperors = len(possibly_assassinated_emperors)/Total\n",
    "f_Other = (Total-(len(assassinated_emperors)+len(possibly_assassinated_emperors)))/Total\n",
    "\n",
    "\n",
    "import matplotlib.pyplot as plotter\n",
    "\n",
    "# The slice names of a population distribution pie chart\n",
    "\n",
    "pieLabels = 'Assassinated', 'Possibly Assassinated', 'Others'\n",
    "\n",
    "pie_share = [f_number_assassinated, f_possibly_assassinated_emperors, f_Other]\n",
    " \n",
    "\n",
    "figureObject, axesObject = plotter.subplots()\n",
    " \n",
    "\n",
    "# Draw the pie chart\n",
    "\n",
    "axesObject.pie(pie_share,\n",
    "\n",
    "        labels=pieLabels,\n",
    "\n",
    "        autopct='%1.2f',\n",
    "\n",
    "        startangle=90)\n",
    "\n",
    " \n",
    "\n",
    "# Aspect ratio - equal means pie is a circle\n",
    "\n",
    "axesObject.axis('equal')\n",
    "\n",
    " \n",
    "\n",
    "plotter.show()\n",
    "\n"
   ]
  },
  {
   "cell_type": "code",
   "execution_count": null,
   "id": "59670b13",
   "metadata": {},
   "outputs": [],
   "source": []
  },
  {
   "cell_type": "code",
   "execution_count": null,
   "id": "aad38e9e",
   "metadata": {},
   "outputs": [],
   "source": []
  }
 ],
 "metadata": {
  "kernelspec": {
   "display_name": "Python 3 (ipykernel)",
   "language": "python",
   "name": "python3"
  },
  "language_info": {
   "codemirror_mode": {
    "name": "ipython",
    "version": 3
   },
   "file_extension": ".py",
   "mimetype": "text/x-python",
   "name": "python",
   "nbconvert_exporter": "python",
   "pygments_lexer": "ipython3",
   "version": "3.9.7"
  }
 },
 "nbformat": 4,
 "nbformat_minor": 5
}
